{
 "cells": [
  {
   "cell_type": "code",
   "execution_count": 3,
   "metadata": {
    "ExecuteTime": {
     "end_time": "2020-04-01T01:43:49.142187Z",
     "start_time": "2020-04-01T01:43:49.063355Z"
    }
   },
   "outputs": [],
   "source": [
    "%load_ext autoreload\n",
    "%autoreload 2"
   ]
  },
  {
   "cell_type": "code",
   "execution_count": 21,
   "metadata": {
    "ExecuteTime": {
     "end_time": "2020-04-01T01:48:29.429479Z",
     "start_time": "2020-04-01T01:48:29.339109Z"
    }
   },
   "outputs": [],
   "source": [
    "from pathlib import Path\n",
    "import os\n",
    "import sys\n",
    "import datetime as dt\n",
    "import pandas as pd\n",
    "import numpy as np\n",
    "from google.cloud import storage\n",
    "import json\n",
    "from dotenv import load_dotenv\n",
    "load_dotenv()\n",
    "import tempfile\n",
    "\n",
    "from tensorflow import keras as tfk\n",
    "import tensorflow_hub as hub"
   ]
  },
  {
   "cell_type": "code",
   "execution_count": 5,
   "metadata": {
    "ExecuteTime": {
     "end_time": "2020-04-01T01:43:51.210094Z",
     "start_time": "2020-04-01T01:43:51.150140Z"
    }
   },
   "outputs": [],
   "source": [
    "dag_path = Path('/Users', 'calebcastleberry', 'Documents', 'GitHubRepos')\n",
    "sys.path.append(dag_path.as_posix())"
   ]
  },
  {
   "cell_type": "code",
   "execution_count": 6,
   "metadata": {
    "ExecuteTime": {
     "end_time": "2020-04-01T01:43:52.642401Z",
     "start_time": "2020-04-01T01:43:51.596239Z"
    }
   },
   "outputs": [],
   "source": [
    "from airflow_dags.services.reddit_analysis.dags import sub_overview_node as son\n",
    "from airflow_dags.services.reddit_analysis.dags import post_detail_node as pdn"
   ]
  },
  {
   "cell_type": "code",
   "execution_count": 7,
   "metadata": {
    "ExecuteTime": {
     "end_time": "2020-04-01T01:43:52.709967Z",
     "start_time": "2020-04-01T01:43:52.644616Z"
    }
   },
   "outputs": [],
   "source": [
    "try:\n",
    "    from airflow.models import Variable\n",
    "    reddit_client_id = Variable.get(\n",
    "        'REDDIT_CLIENT_ID', default_var=os.environ.get('REDDIT_CLIENT_ID'))\n",
    "    reddit_client_secret = Variable.get(\n",
    "        'REDDIT_CLIENT_SECRET', default_var=os.environ.get('REDDIT_CLIENT_SECRET'))\n",
    "    reddit_user_agent = Variable.get(\n",
    "        'REDDIT_USER_AGENT', default_var=os.environ.get('REDDIT_USER_AGENT'))\n",
    "    google_storage_bucket_name = Variable.get(\n",
    "        'GOOGLE_STORAGE_BUCKET_NAME',\n",
    "        default_var=os.environ.get('GOOGLE_STORAGE_BUCKET_NAME')\n",
    "    )\n",
    "except:\n",
    "    reddit_client_id = os.environ.get('REDDIT_CLIENT_ID')\n",
    "    reddit_client_secret = os.environ.get('REDDIT_CLIENT_SECRET')\n",
    "    reddit_user_agent = os.environ.get('REDDIT_USER_AGENT')\n",
    "    google_storage_bucket_name = os.environ.get('GOOGLE_STORAGE_BUCKET_NAME')"
   ]
  },
  {
   "cell_type": "code",
   "execution_count": 8,
   "metadata": {
    "ExecuteTime": {
     "end_time": "2020-04-01T01:43:52.790951Z",
     "start_time": "2020-04-01T01:43:52.712595Z"
    }
   },
   "outputs": [],
   "source": [
    "subreddit = 'destinythegame'\n",
    "date = dt.date(year=2020, month=1, day=23)"
   ]
  },
  {
   "cell_type": "code",
   "execution_count": 9,
   "metadata": {
    "ExecuteTime": {
     "end_time": "2020-04-01T01:43:52.981239Z",
     "start_time": "2020-04-01T01:43:52.901761Z"
    }
   },
   "outputs": [],
   "source": [
    "blob_path = Path(\n",
    "    'reddit_analysis',\n",
    "    'comments',\n",
    "    '7mys8m_comments.json'\n",
    ").as_posix()\n",
    "client = storage.Client()\n",
    "bucket = client.bucket(google_storage_bucket_name)\n",
    "json_blob = bucket.blob(blob_path)"
   ]
  },
  {
   "cell_type": "code",
   "execution_count": 10,
   "metadata": {
    "ExecuteTime": {
     "end_time": "2020-04-01T01:43:53.432622Z",
     "start_time": "2020-04-01T01:43:53.131984Z"
    }
   },
   "outputs": [],
   "source": [
    "comments = json.loads(json_blob.download_as_string())"
   ]
  },
  {
   "cell_type": "code",
   "execution_count": 11,
   "metadata": {
    "ExecuteTime": {
     "end_time": "2020-04-01T01:43:53.496015Z",
     "start_time": "2020-04-01T01:43:53.434928Z"
    }
   },
   "outputs": [],
   "source": [
    "df = pd.DataFrame.from_records(comments)"
   ]
  },
  {
   "cell_type": "code",
   "execution_count": 12,
   "metadata": {
    "ExecuteTime": {
     "end_time": "2020-04-01T01:43:54.249561Z",
     "start_time": "2020-04-01T01:43:54.185049Z"
    }
   },
   "outputs": [
    {
     "data": {
      "text/plain": [
       "(29, 9)"
      ]
     },
     "execution_count": 12,
     "metadata": {},
     "output_type": "execute_result"
    }
   ],
   "source": [
    "df.shape"
   ]
  },
  {
   "cell_type": "code",
   "execution_count": 13,
   "metadata": {
    "ExecuteTime": {
     "end_time": "2020-04-01T01:43:54.615273Z",
     "start_time": "2020-04-01T01:43:54.536018Z"
    }
   },
   "outputs": [
    {
     "data": {
      "text/html": [
       "<div>\n",
       "<style scoped>\n",
       "    .dataframe tbody tr th:only-of-type {\n",
       "        vertical-align: middle;\n",
       "    }\n",
       "\n",
       "    .dataframe tbody tr th {\n",
       "        vertical-align: top;\n",
       "    }\n",
       "\n",
       "    .dataframe thead th {\n",
       "        text-align: right;\n",
       "    }\n",
       "</style>\n",
       "<table border=\"1\" class=\"dataframe\">\n",
       "  <thead>\n",
       "    <tr style=\"text-align: right;\">\n",
       "      <th></th>\n",
       "      <th>id</th>\n",
       "      <th>parent_prefix</th>\n",
       "      <th>parent_id</th>\n",
       "      <th>parent</th>\n",
       "      <th>body</th>\n",
       "      <th>score</th>\n",
       "      <th>level</th>\n",
       "      <th>post_id</th>\n",
       "      <th>created_ts</th>\n",
       "    </tr>\n",
       "  </thead>\n",
       "  <tbody>\n",
       "    <tr>\n",
       "      <th>0</th>\n",
       "      <td>drxp6xb</td>\n",
       "      <td>t3</td>\n",
       "      <td>7mys8m</td>\n",
       "      <td>t3_7mys8m</td>\n",
       "      <td>It's just a box (!)</td>\n",
       "      <td>65</td>\n",
       "      <td>1</td>\n",
       "      <td>7mys8m</td>\n",
       "      <td>1.514599e+09</td>\n",
       "    </tr>\n",
       "    <tr>\n",
       "      <th>1</th>\n",
       "      <td>drxqbv0</td>\n",
       "      <td>t3</td>\n",
       "      <td>7mys8m</td>\n",
       "      <td>t3_7mys8m</td>\n",
       "      <td>!</td>\n",
       "      <td>50</td>\n",
       "      <td>1</td>\n",
       "      <td>7mys8m</td>\n",
       "      <td>1.514601e+09</td>\n",
       "    </tr>\n",
       "    <tr>\n",
       "      <th>2</th>\n",
       "      <td>dry854l</td>\n",
       "      <td>t3</td>\n",
       "      <td>7mys8m</td>\n",
       "      <td>t3_7mys8m</td>\n",
       "      <td>Kept you waiting, huh?</td>\n",
       "      <td>11</td>\n",
       "      <td>1</td>\n",
       "      <td>7mys8m</td>\n",
       "      <td>1.514635e+09</td>\n",
       "    </tr>\n",
       "    <tr>\n",
       "      <th>3</th>\n",
       "      <td>dry4pj2</td>\n",
       "      <td>t3</td>\n",
       "      <td>7mys8m</td>\n",
       "      <td>t3_7mys8m</td>\n",
       "      <td>Solid post.</td>\n",
       "      <td>26</td>\n",
       "      <td>1</td>\n",
       "      <td>7mys8m</td>\n",
       "      <td>1.514625e+09</td>\n",
       "    </tr>\n",
       "    <tr>\n",
       "      <th>4</th>\n",
       "      <td>dryb97i</td>\n",
       "      <td>t3</td>\n",
       "      <td>7mys8m</td>\n",
       "      <td>t3_7mys8m</td>\n",
       "      <td>An MTX to surpass all other MTX.</td>\n",
       "      <td>9</td>\n",
       "      <td>1</td>\n",
       "      <td>7mys8m</td>\n",
       "      <td>1.514643e+09</td>\n",
       "    </tr>\n",
       "    <tr>\n",
       "      <th>5</th>\n",
       "      <td>dry98q5</td>\n",
       "      <td>t3</td>\n",
       "      <td>7mys8m</td>\n",
       "      <td>t3_7mys8m</td>\n",
       "      <td>New Dexterity skill gem for the next expansion...</td>\n",
       "      <td>10</td>\n",
       "      <td>1</td>\n",
       "      <td>7mys8m</td>\n",
       "      <td>1.514638e+09</td>\n",
       "    </tr>\n",
       "    <tr>\n",
       "      <th>6</th>\n",
       "      <td>dry8aa1</td>\n",
       "      <td>t3</td>\n",
       "      <td>7mys8m</td>\n",
       "      <td>t3_7mys8m</td>\n",
       "      <td>You're that ninja..</td>\n",
       "      <td>5</td>\n",
       "      <td>1</td>\n",
       "      <td>7mys8m</td>\n",
       "      <td>1.514636e+09</td>\n",
       "    </tr>\n",
       "    <tr>\n",
       "      <th>7</th>\n",
       "      <td>drynyd1</td>\n",
       "      <td>t3</td>\n",
       "      <td>7mys8m</td>\n",
       "      <td>t3_7mys8m</td>\n",
       "      <td>So this is what Cipher has been working on in ...</td>\n",
       "      <td>2</td>\n",
       "      <td>1</td>\n",
       "      <td>7mys8m</td>\n",
       "      <td>1.514660e+09</td>\n",
       "    </tr>\n",
       "    <tr>\n",
       "      <th>8</th>\n",
       "      <td>drxyemf</td>\n",
       "      <td>t3</td>\n",
       "      <td>7mys8m</td>\n",
       "      <td>t3_7mys8m</td>\n",
       "      <td>Quality MGSpost.</td>\n",
       "      <td>2</td>\n",
       "      <td>1</td>\n",
       "      <td>7mys8m</td>\n",
       "      <td>1.514612e+09</td>\n",
       "    </tr>\n",
       "    <tr>\n",
       "      <th>9</th>\n",
       "      <td>dry6n50</td>\n",
       "      <td>t3</td>\n",
       "      <td>7mys8m</td>\n",
       "      <td>t3_7mys8m</td>\n",
       "      <td>Lilly in the Box</td>\n",
       "      <td>2</td>\n",
       "      <td>1</td>\n",
       "      <td>7mys8m</td>\n",
       "      <td>1.514631e+09</td>\n",
       "    </tr>\n",
       "  </tbody>\n",
       "</table>\n",
       "</div>"
      ],
      "text/plain": [
       "        id parent_prefix parent_id     parent  \\\n",
       "0  drxp6xb            t3    7mys8m  t3_7mys8m   \n",
       "1  drxqbv0            t3    7mys8m  t3_7mys8m   \n",
       "2  dry854l            t3    7mys8m  t3_7mys8m   \n",
       "3  dry4pj2            t3    7mys8m  t3_7mys8m   \n",
       "4  dryb97i            t3    7mys8m  t3_7mys8m   \n",
       "5  dry98q5            t3    7mys8m  t3_7mys8m   \n",
       "6  dry8aa1            t3    7mys8m  t3_7mys8m   \n",
       "7  drynyd1            t3    7mys8m  t3_7mys8m   \n",
       "8  drxyemf            t3    7mys8m  t3_7mys8m   \n",
       "9  dry6n50            t3    7mys8m  t3_7mys8m   \n",
       "\n",
       "                                                body  score  level post_id  \\\n",
       "0                                It's just a box (!)     65      1  7mys8m   \n",
       "1                                                  !     50      1  7mys8m   \n",
       "2                             Kept you waiting, huh?     11      1  7mys8m   \n",
       "3                                        Solid post.     26      1  7mys8m   \n",
       "4                  An MTX to surpass all other MTX.       9      1  7mys8m   \n",
       "5  New Dexterity skill gem for the next expansion...     10      1  7mys8m   \n",
       "6                                You're that ninja..      5      1  7mys8m   \n",
       "7  So this is what Cipher has been working on in ...      2      1  7mys8m   \n",
       "8                                   Quality MGSpost.      2      1  7mys8m   \n",
       "9                                   Lilly in the Box      2      1  7mys8m   \n",
       "\n",
       "     created_ts  \n",
       "0  1.514599e+09  \n",
       "1  1.514601e+09  \n",
       "2  1.514635e+09  \n",
       "3  1.514625e+09  \n",
       "4  1.514643e+09  \n",
       "5  1.514638e+09  \n",
       "6  1.514636e+09  \n",
       "7  1.514660e+09  \n",
       "8  1.514612e+09  \n",
       "9  1.514631e+09  "
      ]
     },
     "execution_count": 13,
     "metadata": {},
     "output_type": "execute_result"
    }
   ],
   "source": [
    "df.head(10)"
   ]
  },
  {
   "cell_type": "code",
   "execution_count": 30,
   "metadata": {
    "ExecuteTime": {
     "end_time": "2020-04-01T01:49:39.884642Z",
     "start_time": "2020-04-01T01:49:39.808622Z"
    }
   },
   "outputs": [
    {
     "data": {
      "text/plain": [
       "(1,)"
      ]
     },
     "execution_count": 30,
     "metadata": {},
     "output_type": "execute_result"
    }
   ],
   "source": [
    "sample_text = df['body'].loc[0]\n",
    "sample_array = np.array(sample_text).reshape(-1)\n",
    "sample_array.shape"
   ]
  },
  {
   "cell_type": "code",
   "execution_count": 15,
   "metadata": {
    "ExecuteTime": {
     "end_time": "2020-04-01T01:46:13.888928Z",
     "start_time": "2020-04-01T01:46:13.792840Z"
    }
   },
   "outputs": [],
   "source": [
    "model_path = '/Users/calebcastleberry/Documents/GitHubRepos/airflow_dags/services/reddit_analysis/models/keras_large_bert.h5'"
   ]
  },
  {
   "cell_type": "code",
   "execution_count": 16,
   "metadata": {
    "ExecuteTime": {
     "end_time": "2020-04-01T01:47:27.575828Z",
     "start_time": "2020-04-01T01:46:54.151124Z"
    }
   },
   "outputs": [],
   "source": [
    "model = tfk.models.load_model(model_path, custom_objects={'KerasLayer':hub.KerasLayer})"
   ]
  },
  {
   "cell_type": "code",
   "execution_count": 32,
   "metadata": {
    "ExecuteTime": {
     "end_time": "2020-04-01T01:50:31.826761Z",
     "start_time": "2020-04-01T01:50:31.651759Z"
    }
   },
   "outputs": [
    {
     "data": {
      "text/plain": [
       "array([[3.7293121e-02, 7.5271958e-04, 1.2652708e-02, 7.6698583e-05,\n",
       "        1.0714167e-02, 2.1729067e-03]], dtype=float32)"
      ]
     },
     "execution_count": 32,
     "metadata": {},
     "output_type": "execute_result"
    }
   ],
   "source": [
    "pred = model.predict(sample_array)\n",
    "pred"
   ]
  },
  {
   "cell_type": "code",
   "execution_count": 35,
   "metadata": {
    "ExecuteTime": {
     "end_time": "2020-04-01T01:51:26.920892Z",
     "start_time": "2020-04-01T01:51:26.845198Z"
    }
   },
   "outputs": [
    {
     "name": "stdout",
     "output_type": "stream",
     "text": [
      "---------------------\n",
      "toxic:\n",
      "Score: 0.04\n",
      "---------------------\n",
      "---------------------\n",
      "severe_toxic:\n",
      "Score: 0.00\n",
      "---------------------\n",
      "---------------------\n",
      "obscene:\n",
      "Score: 0.01\n",
      "---------------------\n",
      "---------------------\n",
      "threat:\n",
      "Score: 0.00\n",
      "---------------------\n",
      "---------------------\n",
      "insult:\n",
      "Score: 0.01\n",
      "---------------------\n",
      "---------------------\n",
      "identity_hate:\n",
      "Score: 0.00\n",
      "---------------------\n"
     ]
    }
   ],
   "source": [
    "label_cols = ['toxic', 'severe_toxic', 'obscene', 'threat', 'insult', 'identity_hate']\n",
    "for i in range(6):\n",
    "    label = label_cols[i]\n",
    "    print('---------------------')\n",
    "    print(f'{label}:')\n",
    "    print(f'Score: {pred[0][i]:.02f}')\n",
    "    print('---------------------')"
   ]
  },
  {
   "cell_type": "code",
   "execution_count": 36,
   "metadata": {
    "ExecuteTime": {
     "end_time": "2020-04-01T01:55:57.756609Z",
     "start_time": "2020-04-01T01:55:57.660348Z"
    }
   },
   "outputs": [
    {
     "data": {
      "text/plain": [
       "0.34"
      ]
     },
     "execution_count": 36,
     "metadata": {},
     "output_type": "execute_result"
    }
   ],
   "source": [
    "round(.345, 2)"
   ]
  },
  {
   "cell_type": "code",
   "execution_count": null,
   "metadata": {},
   "outputs": [],
   "source": []
  }
 ],
 "metadata": {
  "kernelspec": {
   "display_name": "Python 3",
   "language": "python",
   "name": "python3"
  },
  "language_info": {
   "codemirror_mode": {
    "name": "ipython",
    "version": 3
   },
   "file_extension": ".py",
   "mimetype": "text/x-python",
   "name": "python",
   "nbconvert_exporter": "python",
   "pygments_lexer": "ipython3",
   "version": "3.7.6"
  },
  "toc": {
   "base_numbering": 1,
   "nav_menu": {},
   "number_sections": true,
   "sideBar": true,
   "skip_h1_title": false,
   "title_cell": "Table of Contents",
   "title_sidebar": "Contents",
   "toc_cell": false,
   "toc_position": {},
   "toc_section_display": true,
   "toc_window_display": false
  },
  "widgets": {
   "application/vnd.jupyter.widget-state+json": {
    "state": {},
    "version_major": 2,
    "version_minor": 0
   }
  }
 },
 "nbformat": 4,
 "nbformat_minor": 4
}
