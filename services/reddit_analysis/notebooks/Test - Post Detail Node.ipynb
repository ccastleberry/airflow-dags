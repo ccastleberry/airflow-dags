{
 "cells": [
  {
   "cell_type": "code",
   "execution_count": 1,
   "metadata": {
    "ExecuteTime": {
     "end_time": "2020-04-01T02:12:38.315083Z",
     "start_time": "2020-04-01T02:12:38.279280Z"
    }
   },
   "outputs": [],
   "source": [
    "%load_ext autoreload\n",
    "%autoreload 2"
   ]
  },
  {
   "cell_type": "code",
   "execution_count": 2,
   "metadata": {
    "ExecuteTime": {
     "end_time": "2020-04-01T02:12:39.454646Z",
     "start_time": "2020-04-01T02:12:38.319273Z"
    }
   },
   "outputs": [],
   "source": [
    "from pathlib import Path\n",
    "import os\n",
    "import sys\n",
    "import datetime as dt\n",
    "import pandas as pd\n",
    "from google.cloud import storage\n",
    "import json"
   ]
  },
  {
   "cell_type": "code",
   "execution_count": 3,
   "metadata": {
    "ExecuteTime": {
     "end_time": "2020-04-01T02:12:39.480766Z",
     "start_time": "2020-04-01T02:12:39.457793Z"
    }
   },
   "outputs": [],
   "source": [
    "dag_path = Path('/Users', 'calebcastleberry', 'Documents', 'GitHubRepos')\n",
    "sys.path.append(dag_path.as_posix())"
   ]
  },
  {
   "cell_type": "code",
   "execution_count": 4,
   "metadata": {
    "ExecuteTime": {
     "end_time": "2020-04-01T02:12:44.781874Z",
     "start_time": "2020-04-01T02:12:39.483743Z"
    }
   },
   "outputs": [],
   "source": [
    "from airflow_dags.services.reddit_analysis.dags import sub_overview_node as son\n",
    "from airflow_dags.services.reddit_analysis.dags import post_detail_node as pdn"
   ]
  },
  {
   "cell_type": "code",
   "execution_count": 5,
   "metadata": {
    "ExecuteTime": {
     "end_time": "2020-04-01T02:12:44.848040Z",
     "start_time": "2020-04-01T02:12:44.783999Z"
    }
   },
   "outputs": [],
   "source": [
    "subreddit = 'destinythegame'\n",
    "date = dt.date(year=2020, month=1, day=23)"
   ]
  },
  {
   "cell_type": "code",
   "execution_count": 6,
   "metadata": {
    "ExecuteTime": {
     "end_time": "2020-04-01T02:12:45.260897Z",
     "start_time": "2020-04-01T02:12:44.851077Z"
    }
   },
   "outputs": [],
   "source": [
    "top_n = pdn.get_top_n_posts(subreddit, date)"
   ]
  },
  {
   "cell_type": "code",
   "execution_count": 7,
   "metadata": {
    "ExecuteTime": {
     "end_time": "2020-04-01T02:12:45.348780Z",
     "start_time": "2020-04-01T02:12:45.265255Z"
    }
   },
   "outputs": [
    {
     "data": {
      "text/plain": [
       "10"
      ]
     },
     "execution_count": 7,
     "metadata": {},
     "output_type": "execute_result"
    }
   ],
   "source": [
    "len(top_n)"
   ]
  },
  {
   "cell_type": "code",
   "execution_count": 8,
   "metadata": {
    "ExecuteTime": {
     "end_time": "2020-04-01T02:12:45.428920Z",
     "start_time": "2020-04-01T02:12:45.352478Z"
    }
   },
   "outputs": [
    {
     "data": {
      "text/plain": [
       "[{'id': 'esf73m',\n",
       "  'score': 13637,\n",
       "  'title': 'Here are 44(!) original concepts for ritual weapons and exotics',\n",
       "  'author': 'NikkoJT',\n",
       "  'comment_count': 1115},\n",
       " {'id': 'es65qc',\n",
       "  'score': 3145,\n",
       "  'title': \"After not playing any Season of Dawn the FOMO aspects of the seasons and the new Corridors of Time limitation don't make me want to pick the game up, they make me want to never play again.\",\n",
       "  'author': 'PreviousHistory',\n",
       "  'comment_count': 573},\n",
       " {'id': 'es9zxq',\n",
       "  'score': 2905,\n",
       "  'title': 'Even a bugged Bow ended up being a much better “you had to be there” moment from Season 9 compared to Bastion.',\n",
       "  'author': 'FC_mania',\n",
       "  'comment_count': 457},\n",
       " {'id': 'esje0l',\n",
       "  'score': 2671,\n",
       "  'title': 'Destiny was better when you could \"finish\" the content and step away',\n",
       "  'author': 'RadioactiveMicrobe',\n",
       "  'comment_count': 545},\n",
       " {'id': 'es6i6e',\n",
       "  'score': 2405,\n",
       "  'title': 'Whisper\\'s \"You Had To Be There,\" is infinitely better than Bastion\\'s \"You Had To Be There,\" because the former\\'s mission still exists and still rewards an Exotic, a Catalyst, and a Ship',\n",
       "  'author': 'ttrgr',\n",
       "  'comment_count': 268},\n",
       " {'id': 'esgh0h',\n",
       "  'score': 1719,\n",
       "  'title': '3 Ascendant Shards to MW an Exotic is too much',\n",
       "  'author': 'Russ369',\n",
       "  'comment_count': 318},\n",
       " {'id': 'esa5mj',\n",
       "  'score': 1509,\n",
       "  'title': 'Destiny 2 Is Becoming Less & Less Enjoyable With Every New Season',\n",
       "  'author': 'feelingRegal',\n",
       "  'comment_count': 641},\n",
       " {'id': 'escjtj',\n",
       "  'score': 1290,\n",
       "  'title': 'The community would definitely benefit from a State of the Game before the start of the next season.',\n",
       "  'author': 'IM_JUST_THE_INTERN',\n",
       "  'comment_count': 280},\n",
       " {'id': 'esclx1',\n",
       "  'score': 1180,\n",
       "  'title': 'Sometimes ignoring this sub is a good thing. Salt Free.',\n",
       "  'author': 'king5six1',\n",
       "  'comment_count': 321},\n",
       " {'id': 'es5c9z',\n",
       "  'score': 1109,\n",
       "  'title': 'PvE metas should be based around what is fun to use, not what is able to penetrate barriers.',\n",
       "  'author': 'WaavyDaavy',\n",
       "  'comment_count': 83}]"
      ]
     },
     "execution_count": 8,
     "metadata": {},
     "output_type": "execute_result"
    }
   ],
   "source": [
    "top_n"
   ]
  },
  {
   "cell_type": "code",
   "execution_count": 9,
   "metadata": {
    "ExecuteTime": {
     "end_time": "2020-04-01T02:12:45.507693Z",
     "start_time": "2020-04-01T02:12:45.432523Z"
    }
   },
   "outputs": [],
   "source": [
    "top_id = top_n[0]['id']"
   ]
  },
  {
   "cell_type": "code",
   "execution_count": 10,
   "metadata": {
    "ExecuteTime": {
     "end_time": "2020-04-01T02:15:46.131085Z",
     "start_time": "2020-04-01T02:12:45.509765Z"
    }
   },
   "outputs": [],
   "source": [
    "summary, comments = pdn.get_submission_detail(top_id)"
   ]
  },
  {
   "cell_type": "code",
   "execution_count": 11,
   "metadata": {
    "ExecuteTime": {
     "end_time": "2020-04-01T02:15:46.272751Z",
     "start_time": "2020-04-01T02:15:46.134748Z"
    }
   },
   "outputs": [
    {
     "data": {
      "text/plain": [
       "{'id': 'esf73m',\n",
       " 'created_ts': 1579714176.0,\n",
       " 'author': 'NikkoJT',\n",
       " 'title': 'Here are 44(!) original concepts for ritual weapons and exotics',\n",
       " 'permalink': '/r/DestinyTheGame/comments/esf73m/here_are_44_original_concepts_for_ritual_weapons/',\n",
       " 'url': 'https://www.reddit.com/r/DestinyTheGame/comments/esf73m/here_are_44_original_concepts_for_ritual_weapons/',\n",
       " 'score': 13652,\n",
       " 'comment_count': 1114,\n",
       " 'selfpost': True,\n",
       " 'text': \"~~Swazdoh-lah, Ten~~no, that's not it. Er...**greetings, Guardians!**\\n\\nI have designed 44 individual weapons, mostly in themed sets. They are a mix of legendary ritual weapons and exotics. It's not just crappy text descriptions either - there are crappy pictures too!\\n\\n#[here is the link to the pictures](https://imgur.com/a/6tsHxRn)\\n\\nI have tried to be creative and design unique weapons, while remaining believable in the context of Destiny's world. Except two...you'll know 'em when you see 'em. Two others (The Centrepiece and All Star) are based on suggestions from the DTG Discord.\\n\\n\\n**Why?**\\n\\nI am an artist. This was fun. Also good practice.\\n\\n**Those are pinnacles!**\\n\\nYeah but I can't call them that any more, can I? In all respects other than the unique perk, they are rituals - they're designed to come from themed ritual pursuits from specific vendors or events.\\n\\n**Your balancing sucks!**\\n\\nPost your suggestions below. We can discuss this peaceably.\\n\\n**What about exotic catalysts?**\\n\\nDidn't feel like it. More text than picture and I'm here for the picture. Suggestions accepted.\\n\\n**Bungie**\\n\\nIf you're reading this and liking it, let's talk. I like money. You like guns. It's simple math, Guardian.\\n\\n**Thanks for the gold**\\n\\nI know you didn't give it. I'm a Hunter main, I just took yours while you were reading this.\",\n",
       " 'link_flair': 'Media'}"
      ]
     },
     "execution_count": 11,
     "metadata": {},
     "output_type": "execute_result"
    }
   ],
   "source": [
    "summary"
   ]
  },
  {
   "cell_type": "code",
   "execution_count": 12,
   "metadata": {
    "ExecuteTime": {
     "end_time": "2020-04-01T02:15:46.404662Z",
     "start_time": "2020-04-01T02:15:46.275044Z"
    }
   },
   "outputs": [
    {
     "data": {
      "text/plain": [
       "'esf73m'"
      ]
     },
     "execution_count": 12,
     "metadata": {},
     "output_type": "execute_result"
    }
   ],
   "source": [
    "comments[0]['post_id']"
   ]
  },
  {
   "cell_type": "code",
   "execution_count": 13,
   "metadata": {
    "ExecuteTime": {
     "end_time": "2020-04-01T02:15:46.585681Z",
     "start_time": "2020-04-01T02:15:46.416429Z"
    }
   },
   "outputs": [
    {
     "data": {
      "text/plain": [
       "{'id': 'ff9km3e',\n",
       " 'parent_prefix': 't3',\n",
       " 'parent_id': 'esf73m',\n",
       " 'parent': 't3_esf73m',\n",
       " 'body': 'I could get behind slapping enemies with a box of cereal.',\n",
       " 'score': 1143,\n",
       " 'level': 1,\n",
       " 'post_id': 'esf73m',\n",
       " 'created_ts': 1579714989.0,\n",
       " 'tb_noun_phrases': [],\n",
       " 'tb_sentiment_polarity': -0.4,\n",
       " 'tb_sentiment_subjectivity': 0.7,\n",
       " 'tf_toxic': 0.6111904978752136,\n",
       " 'tf_severe_toxic': 0.012652851641178131,\n",
       " 'tf_obscene': 0.13361385464668274,\n",
       " 'tf_threat': 0.036233074963092804,\n",
       " 'tf_insult': 0.037752665579319,\n",
       " 'tf_identity_hate': 0.0058461762964725494}"
      ]
     },
     "execution_count": 13,
     "metadata": {},
     "output_type": "execute_result"
    }
   ],
   "source": [
    "comments[0]"
   ]
  },
  {
   "cell_type": "code",
   "execution_count": 14,
   "metadata": {
    "ExecuteTime": {
     "end_time": "2020-04-01T02:15:47.510329Z",
     "start_time": "2020-04-01T02:15:46.595142Z"
    }
   },
   "outputs": [
    {
     "data": {
      "text/plain": [
       "'reddit_analysis/post_summaries/esf73m_summary.json'"
      ]
     },
     "execution_count": 14,
     "metadata": {},
     "output_type": "execute_result"
    }
   ],
   "source": [
    "pdn.deliver_post_summary(summary)"
   ]
  },
  {
   "cell_type": "code",
   "execution_count": 15,
   "metadata": {
    "ExecuteTime": {
     "end_time": "2020-04-01T02:15:48.448219Z",
     "start_time": "2020-04-01T02:15:47.514062Z"
    }
   },
   "outputs": [
    {
     "data": {
      "text/plain": [
       "'reddit_analysis/comments/esf73m_comments.jsonl'"
      ]
     },
     "execution_count": 15,
     "metadata": {},
     "output_type": "execute_result"
    }
   ],
   "source": [
    "pdn.deliver_post_comments(comments)"
   ]
  },
  {
   "cell_type": "code",
   "execution_count": 16,
   "metadata": {
    "ExecuteTime": {
     "end_time": "2020-04-01T02:15:48.558240Z",
     "start_time": "2020-04-01T02:15:48.451840Z"
    }
   },
   "outputs": [
    {
     "data": {
      "text/plain": [
       "'1.277500'"
      ]
     },
     "execution_count": 16,
     "metadata": {},
     "output_type": "execute_result"
    }
   ],
   "source": [
    "file_size = 350\n",
    "top_n = 10\n",
    "years = 1\n",
    "subs = 1\n",
    "\"{:,f}\".format(file_size * top_n * 365 * years * subs / 1_000_000)"
   ]
  },
  {
   "cell_type": "code",
   "execution_count": null,
   "metadata": {},
   "outputs": [],
   "source": []
  }
 ],
 "metadata": {
  "kernelspec": {
   "display_name": "Python 3",
   "language": "python",
   "name": "python3"
  },
  "language_info": {
   "codemirror_mode": {
    "name": "ipython",
    "version": 3
   },
   "file_extension": ".py",
   "mimetype": "text/x-python",
   "name": "python",
   "nbconvert_exporter": "python",
   "pygments_lexer": "ipython3",
   "version": "3.7.6"
  },
  "toc": {
   "base_numbering": 1,
   "nav_menu": {},
   "number_sections": true,
   "sideBar": true,
   "skip_h1_title": false,
   "title_cell": "Table of Contents",
   "title_sidebar": "Contents",
   "toc_cell": false,
   "toc_position": {},
   "toc_section_display": true,
   "toc_window_display": false
  },
  "widgets": {
   "application/vnd.jupyter.widget-state+json": {
    "state": {},
    "version_major": 2,
    "version_minor": 0
   }
  }
 },
 "nbformat": 4,
 "nbformat_minor": 4
}
