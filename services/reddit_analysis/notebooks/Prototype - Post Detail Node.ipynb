{
 "cells": [
  {
   "cell_type": "code",
   "execution_count": 31,
   "metadata": {
    "ExecuteTime": {
     "end_time": "2020-03-17T00:49:02.072188Z",
     "start_time": "2020-03-17T00:49:02.068024Z"
    }
   },
   "outputs": [
    {
     "name": "stderr",
     "output_type": "stream",
     "text": [
      "UsageError: Line magic function `%` not found.\n"
     ]
    }
   ],
   "source": [
    "% load_ext autoreload\n",
    "% autoreload 2"
   ]
  },
  {
   "cell_type": "code",
   "execution_count": 23,
   "metadata": {
    "ExecuteTime": {
     "end_time": "2020-03-17T00:41:51.336604Z",
     "start_time": "2020-03-17T00:41:51.333143Z"
    }
   },
   "outputs": [],
   "source": [
    "from pathlib import Path\n",
    "import os\n",
    "import sys\n",
    "import datetime as dt\n",
    "import pandas as pd\n",
    "from google.cloud import storage\n",
    "import json"
   ]
  },
  {
   "cell_type": "code",
   "execution_count": 14,
   "metadata": {
    "ExecuteTime": {
     "end_time": "2020-03-17T00:37:33.063128Z",
     "start_time": "2020-03-17T00:37:33.059674Z"
    }
   },
   "outputs": [],
   "source": [
    "reddit_client_id = os.environ.get('REDDIT_CLIENT_ID')\n",
    "reddit_client_secret = os.environ.get('REDDIT_CLIENT_SECRET')\n",
    "reddit_user_agent = os.environ.get('REDDIT_USER_AGENT')\n",
    "google_storage_bucket_name = os.environ.get('GOOGLE_STORAGE_BUCKET_NAME')\n"
   ]
  },
  {
   "cell_type": "code",
   "execution_count": 2,
   "metadata": {
    "ExecuteTime": {
     "end_time": "2020-03-17T00:32:43.491809Z",
     "start_time": "2020-03-17T00:32:43.481341Z"
    }
   },
   "outputs": [],
   "source": [
    "dag_path = Path('/Users', 'calebcastleberry', 'Documents', 'GitHubRepos')\n",
    "sys.path.append(dag_path.as_posix())"
   ]
  },
  {
   "cell_type": "code",
   "execution_count": 3,
   "metadata": {
    "ExecuteTime": {
     "end_time": "2020-03-17T00:32:52.239068Z",
     "start_time": "2020-03-17T00:32:51.569201Z"
    }
   },
   "outputs": [],
   "source": [
    "from airflow_dags.services.reddit_analysis.dags import sub_overview_node as son\n",
    "from airflow_dags.services.reddit_analysis.dags import post_detail_node as pdn"
   ]
  },
  {
   "cell_type": "markdown",
   "metadata": {},
   "source": [
    "# Setup Blob"
   ]
  },
  {
   "cell_type": "code",
   "execution_count": 7,
   "metadata": {
    "ExecuteTime": {
     "end_time": "2020-03-17T00:36:08.428585Z",
     "start_time": "2020-03-17T00:36:08.425405Z"
    }
   },
   "outputs": [],
   "source": [
    "subreddit = 'destinythegame'\n",
    "date = dt.date(year=2020, month=1, day=23)"
   ]
  },
  {
   "cell_type": "code",
   "execution_count": 19,
   "metadata": {
    "ExecuteTime": {
     "end_time": "2020-03-17T00:41:20.065132Z",
     "start_time": "2020-03-17T00:41:20.057469Z"
    }
   },
   "outputs": [],
   "source": [
    "blob_path = Path(\n",
    "    'reddit_analysis',\n",
    "    'subreddit_overview', \n",
    "    subreddit,\n",
    "    date.strftime('%Y-%m-%d') + '.json'\n",
    ").as_posix()\n",
    "client = storage.Client()\n",
    "bucket = client.bucket(google_storage_bucket_name)"
   ]
  },
  {
   "cell_type": "code",
   "execution_count": 20,
   "metadata": {
    "ExecuteTime": {
     "end_time": "2020-03-17T00:41:20.437905Z",
     "start_time": "2020-03-17T00:41:20.434685Z"
    }
   },
   "outputs": [],
   "source": [
    "blob = bucket.blob(blob_path)"
   ]
  },
  {
   "cell_type": "code",
   "execution_count": 24,
   "metadata": {
    "ExecuteTime": {
     "end_time": "2020-03-17T00:42:09.484493Z",
     "start_time": "2020-03-17T00:42:09.416521Z"
    }
   },
   "outputs": [],
   "source": [
    "summary = json.loads(blob.download_as_string())"
   ]
  },
  {
   "cell_type": "code",
   "execution_count": 30,
   "metadata": {
    "ExecuteTime": {
     "end_time": "2020-03-17T00:46:15.090359Z",
     "start_time": "2020-03-17T00:46:15.084934Z"
    }
   },
   "outputs": [
    {
     "data": {
      "text/plain": [
       "2"
      ]
     },
     "execution_count": 30,
     "metadata": {},
     "output_type": "execute_result"
    }
   ],
   "source": [
    "subs = summary['submissions']\n",
    "len(sorted(subs, key=(lambda x: x['score']), reverse=True)[:2])"
   ]
  },
  {
   "cell_type": "code",
   "execution_count": null,
   "metadata": {},
   "outputs": [],
   "source": []
  },
  {
   "cell_type": "code",
   "execution_count": null,
   "metadata": {},
   "outputs": [],
   "source": []
  }
 ],
 "metadata": {
  "kernelspec": {
   "display_name": "Python 3",
   "language": "python",
   "name": "python3"
  },
  "language_info": {
   "codemirror_mode": {
    "name": "ipython",
    "version": 3
   },
   "file_extension": ".py",
   "mimetype": "text/x-python",
   "name": "python",
   "nbconvert_exporter": "python",
   "pygments_lexer": "ipython3",
   "version": "3.7.6"
  },
  "toc": {
   "base_numbering": 1,
   "nav_menu": {},
   "number_sections": true,
   "sideBar": true,
   "skip_h1_title": false,
   "title_cell": "Table of Contents",
   "title_sidebar": "Contents",
   "toc_cell": false,
   "toc_position": {},
   "toc_section_display": true,
   "toc_window_display": false
  },
  "widgets": {
   "application/vnd.jupyter.widget-state+json": {
    "state": {},
    "version_major": 2,
    "version_minor": 0
   }
  }
 },
 "nbformat": 4,
 "nbformat_minor": 4
}
